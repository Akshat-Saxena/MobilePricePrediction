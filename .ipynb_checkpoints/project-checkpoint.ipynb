{
 "cells": [
  {
   "cell_type": "markdown",
   "metadata": {},
   "source": [
    "# Importing libararies"
   ]
  },
  {
   "cell_type": "code",
   "execution_count": 1,
   "metadata": {},
   "outputs": [],
   "source": [
    "import numpy as np\n",
    "import pandas as pd\n",
    "import matplotlib.pyplot as plt\n",
    "%matplotlib inline\n",
    "import seaborn as sns"
   ]
  },
  {
   "cell_type": "markdown",
   "metadata": {},
   "source": [
    "# Loading the dataset"
   ]
  },
  {
   "cell_type": "code",
   "execution_count": 2,
   "metadata": {},
   "outputs": [
    {
     "data": {
      "text/html": [
       "<div>\n",
       "<style scoped>\n",
       "    .dataframe tbody tr th:only-of-type {\n",
       "        vertical-align: middle;\n",
       "    }\n",
       "\n",
       "    .dataframe tbody tr th {\n",
       "        vertical-align: top;\n",
       "    }\n",
       "\n",
       "    .dataframe thead th {\n",
       "        text-align: right;\n",
       "    }\n",
       "</style>\n",
       "<table border=\"1\" class=\"dataframe\">\n",
       "  <thead>\n",
       "    <tr style=\"text-align: right;\">\n",
       "      <th></th>\n",
       "      <th>Year</th>\n",
       "      <th>Engine HP</th>\n",
       "      <th>Engine Cylinders</th>\n",
       "      <th>Transmission Type</th>\n",
       "      <th>Driven_Wheels</th>\n",
       "      <th>Number of Doors</th>\n",
       "      <th>Vehicle Size</th>\n",
       "      <th>Vehicle Style</th>\n",
       "      <th>highway MPG</th>\n",
       "      <th>city mpg</th>\n",
       "      <th>MSRP</th>\n",
       "    </tr>\n",
       "  </thead>\n",
       "  <tbody>\n",
       "    <tr>\n",
       "      <th>0</th>\n",
       "      <td>2011</td>\n",
       "      <td>335.0</td>\n",
       "      <td>6.0</td>\n",
       "      <td>0</td>\n",
       "      <td>0</td>\n",
       "      <td>2.0</td>\n",
       "      <td>0</td>\n",
       "      <td>0</td>\n",
       "      <td>26</td>\n",
       "      <td>19</td>\n",
       "      <td>46135</td>\n",
       "    </tr>\n",
       "    <tr>\n",
       "      <th>1</th>\n",
       "      <td>2011</td>\n",
       "      <td>300.0</td>\n",
       "      <td>6.0</td>\n",
       "      <td>0</td>\n",
       "      <td>0</td>\n",
       "      <td>2.0</td>\n",
       "      <td>0</td>\n",
       "      <td>1</td>\n",
       "      <td>28</td>\n",
       "      <td>19</td>\n",
       "      <td>40650</td>\n",
       "    </tr>\n",
       "    <tr>\n",
       "      <th>2</th>\n",
       "      <td>2011</td>\n",
       "      <td>300.0</td>\n",
       "      <td>6.0</td>\n",
       "      <td>0</td>\n",
       "      <td>0</td>\n",
       "      <td>2.0</td>\n",
       "      <td>0</td>\n",
       "      <td>0</td>\n",
       "      <td>28</td>\n",
       "      <td>20</td>\n",
       "      <td>36350</td>\n",
       "    </tr>\n",
       "    <tr>\n",
       "      <th>3</th>\n",
       "      <td>2011</td>\n",
       "      <td>230.0</td>\n",
       "      <td>6.0</td>\n",
       "      <td>0</td>\n",
       "      <td>0</td>\n",
       "      <td>2.0</td>\n",
       "      <td>0</td>\n",
       "      <td>0</td>\n",
       "      <td>28</td>\n",
       "      <td>18</td>\n",
       "      <td>29450</td>\n",
       "    </tr>\n",
       "    <tr>\n",
       "      <th>4</th>\n",
       "      <td>2011</td>\n",
       "      <td>230.0</td>\n",
       "      <td>6.0</td>\n",
       "      <td>0</td>\n",
       "      <td>0</td>\n",
       "      <td>2.0</td>\n",
       "      <td>0</td>\n",
       "      <td>1</td>\n",
       "      <td>28</td>\n",
       "      <td>18</td>\n",
       "      <td>34500</td>\n",
       "    </tr>\n",
       "  </tbody>\n",
       "</table>\n",
       "</div>"
      ],
      "text/plain": [
       "   Year  Engine HP  Engine Cylinders  Transmission Type  Driven_Wheels  \\\n",
       "0  2011      335.0               6.0                  0              0   \n",
       "1  2011      300.0               6.0                  0              0   \n",
       "2  2011      300.0               6.0                  0              0   \n",
       "3  2011      230.0               6.0                  0              0   \n",
       "4  2011      230.0               6.0                  0              0   \n",
       "\n",
       "   Number of Doors  Vehicle Size  Vehicle Style  highway MPG  city mpg   MSRP  \n",
       "0              2.0             0              0           26        19  46135  \n",
       "1              2.0             0              1           28        19  40650  \n",
       "2              2.0             0              0           28        20  36350  \n",
       "3              2.0             0              0           28        18  29450  \n",
       "4              2.0             0              1           28        18  34500  "
      ]
     },
     "execution_count": 2,
     "metadata": {},
     "output_type": "execute_result"
    }
   ],
   "source": [
    "data = pd.read_csv('cleaned_data.csv')\n",
    "data.head()"
   ]
  },
  {
   "cell_type": "markdown",
   "metadata": {},
   "source": [
    "# Dataset information"
   ]
  },
  {
   "cell_type": "markdown",
   "metadata": {},
   "source": [
    "### 1) Displaying rows and columns "
   ]
  },
  {
   "cell_type": "code",
   "execution_count": 3,
   "metadata": {},
   "outputs": [
    {
     "data": {
      "text/plain": [
       "(11914, 11)"
      ]
     },
     "execution_count": 3,
     "metadata": {},
     "output_type": "execute_result"
    }
   ],
   "source": [
    "data.shape"
   ]
  },
  {
   "cell_type": "markdown",
   "metadata": {},
   "source": [
    "### 2) Displaying the column names"
   ]
  },
  {
   "cell_type": "code",
   "execution_count": 4,
   "metadata": {},
   "outputs": [
    {
     "data": {
      "text/plain": [
       "Index(['Year', 'Engine HP', 'Engine Cylinders', 'Transmission Type',\n",
       "       'Driven_Wheels', 'Number of Doors', 'Vehicle Size', 'Vehicle Style',\n",
       "       'highway MPG', 'city mpg', 'MSRP'],\n",
       "      dtype='object')"
      ]
     },
     "execution_count": 4,
     "metadata": {},
     "output_type": "execute_result"
    }
   ],
   "source": [
    "data.columns"
   ]
  },
  {
   "cell_type": "markdown",
   "metadata": {},
   "source": [
    "### 3) Displaying data type of each column  "
   ]
  },
  {
   "cell_type": "code",
   "execution_count": 5,
   "metadata": {},
   "outputs": [
    {
     "name": "stdout",
     "output_type": "stream",
     "text": [
      "<class 'pandas.core.frame.DataFrame'>\n",
      "RangeIndex: 11914 entries, 0 to 11913\n",
      "Data columns (total 11 columns):\n",
      " #   Column             Non-Null Count  Dtype  \n",
      "---  ------             --------------  -----  \n",
      " 0   Year               11914 non-null  int64  \n",
      " 1   Engine HP          11845 non-null  float64\n",
      " 2   Engine Cylinders   11884 non-null  float64\n",
      " 3   Transmission Type  11914 non-null  int64  \n",
      " 4   Driven_Wheels      11914 non-null  int64  \n",
      " 5   Number of Doors    11908 non-null  float64\n",
      " 6   Vehicle Size       11914 non-null  int64  \n",
      " 7   Vehicle Style      11914 non-null  int64  \n",
      " 8   highway MPG        11914 non-null  int64  \n",
      " 9   city mpg           11914 non-null  int64  \n",
      " 10  MSRP               11914 non-null  int64  \n",
      "dtypes: float64(3), int64(8)\n",
      "memory usage: 1024.0 KB\n"
     ]
    }
   ],
   "source": [
    "data.info()"
   ]
  },
  {
   "cell_type": "markdown",
   "metadata": {},
   "source": [
    "### 4) displaying the number of null values"
   ]
  },
  {
   "cell_type": "code",
   "execution_count": 6,
   "metadata": {},
   "outputs": [
    {
     "data": {
      "text/plain": [
       "Year                  0\n",
       "Engine HP            69\n",
       "Engine Cylinders     30\n",
       "Transmission Type     0\n",
       "Driven_Wheels         0\n",
       "Number of Doors       6\n",
       "Vehicle Size          0\n",
       "Vehicle Style         0\n",
       "highway MPG           0\n",
       "city mpg              0\n",
       "MSRP                  0\n",
       "dtype: int64"
      ]
     },
     "execution_count": 6,
     "metadata": {},
     "output_type": "execute_result"
    }
   ],
   "source": [
    "data.isnull().sum()"
   ]
  },
  {
   "cell_type": "markdown",
   "metadata": {},
   "source": [
    "### Dropping Null Values"
   ]
  },
  {
   "cell_type": "code",
   "execution_count": 7,
   "metadata": {},
   "outputs": [],
   "source": [
    "data=data.dropna() #drop rows with atleast a column with missing values\n"
   ]
  },
  {
   "cell_type": "code",
   "execution_count": 8,
   "metadata": {},
   "outputs": [
    {
     "data": {
      "text/plain": [
       "Year                 0\n",
       "Engine HP            0\n",
       "Engine Cylinders     0\n",
       "Transmission Type    0\n",
       "Driven_Wheels        0\n",
       "Number of Doors      0\n",
       "Vehicle Size         0\n",
       "Vehicle Style        0\n",
       "highway MPG          0\n",
       "city mpg             0\n",
       "MSRP                 0\n",
       "dtype: int64"
      ]
     },
     "execution_count": 8,
     "metadata": {},
     "output_type": "execute_result"
    }
   ],
   "source": [
    "data.isnull().sum()"
   ]
  },
  {
   "cell_type": "markdown",
   "metadata": {},
   "source": [
    "### 5) Some stats on the dataset"
   ]
  },
  {
   "cell_type": "code",
   "execution_count": 9,
   "metadata": {},
   "outputs": [
    {
     "data": {
      "text/html": [
       "<div>\n",
       "<style scoped>\n",
       "    .dataframe tbody tr th:only-of-type {\n",
       "        vertical-align: middle;\n",
       "    }\n",
       "\n",
       "    .dataframe tbody tr th {\n",
       "        vertical-align: top;\n",
       "    }\n",
       "\n",
       "    .dataframe thead th {\n",
       "        text-align: right;\n",
       "    }\n",
       "</style>\n",
       "<table border=\"1\" class=\"dataframe\">\n",
       "  <thead>\n",
       "    <tr style=\"text-align: right;\">\n",
       "      <th></th>\n",
       "      <th>Year</th>\n",
       "      <th>Engine HP</th>\n",
       "      <th>Engine Cylinders</th>\n",
       "      <th>Transmission Type</th>\n",
       "      <th>Driven_Wheels</th>\n",
       "      <th>Number of Doors</th>\n",
       "      <th>Vehicle Size</th>\n",
       "      <th>Vehicle Style</th>\n",
       "      <th>highway MPG</th>\n",
       "      <th>city mpg</th>\n",
       "      <th>MSRP</th>\n",
       "    </tr>\n",
       "  </thead>\n",
       "  <tbody>\n",
       "    <tr>\n",
       "      <th>count</th>\n",
       "      <td>11815.000000</td>\n",
       "      <td>11815.000000</td>\n",
       "      <td>11815.000000</td>\n",
       "      <td>11815.000000</td>\n",
       "      <td>11815.000000</td>\n",
       "      <td>11815.000000</td>\n",
       "      <td>11815.000000</td>\n",
       "      <td>11815.000000</td>\n",
       "      <td>11815.000000</td>\n",
       "      <td>11815.00000</td>\n",
       "      <td>1.181500e+04</td>\n",
       "    </tr>\n",
       "    <tr>\n",
       "      <th>mean</th>\n",
       "      <td>2010.359966</td>\n",
       "      <td>249.480491</td>\n",
       "      <td>5.649513</td>\n",
       "      <td>0.858146</td>\n",
       "      <td>1.152433</td>\n",
       "      <td>3.432670</td>\n",
       "      <td>0.834109</td>\n",
       "      <td>4.570631</td>\n",
       "      <td>26.320609</td>\n",
       "      <td>19.32755</td>\n",
       "      <td>4.055437e+04</td>\n",
       "    </tr>\n",
       "    <tr>\n",
       "      <th>std</th>\n",
       "      <td>7.594359</td>\n",
       "      <td>109.203463</td>\n",
       "      <td>1.751433</td>\n",
       "      <td>0.664606</td>\n",
       "      <td>0.965569</td>\n",
       "      <td>0.882853</td>\n",
       "      <td>0.776913</td>\n",
       "      <td>3.467384</td>\n",
       "      <td>7.442674</td>\n",
       "      <td>6.52701</td>\n",
       "      <td>6.027750e+04</td>\n",
       "    </tr>\n",
       "    <tr>\n",
       "      <th>min</th>\n",
       "      <td>1990.000000</td>\n",
       "      <td>55.000000</td>\n",
       "      <td>0.000000</td>\n",
       "      <td>0.000000</td>\n",
       "      <td>0.000000</td>\n",
       "      <td>2.000000</td>\n",
       "      <td>0.000000</td>\n",
       "      <td>0.000000</td>\n",
       "      <td>12.000000</td>\n",
       "      <td>7.00000</td>\n",
       "      <td>2.000000e+03</td>\n",
       "    </tr>\n",
       "    <tr>\n",
       "      <th>25%</th>\n",
       "      <td>2007.000000</td>\n",
       "      <td>170.000000</td>\n",
       "      <td>4.000000</td>\n",
       "      <td>1.000000</td>\n",
       "      <td>0.000000</td>\n",
       "      <td>2.000000</td>\n",
       "      <td>0.000000</td>\n",
       "      <td>2.000000</td>\n",
       "      <td>22.000000</td>\n",
       "      <td>16.00000</td>\n",
       "      <td>2.099000e+04</td>\n",
       "    </tr>\n",
       "    <tr>\n",
       "      <th>50%</th>\n",
       "      <td>2015.000000</td>\n",
       "      <td>227.000000</td>\n",
       "      <td>6.000000</td>\n",
       "      <td>1.000000</td>\n",
       "      <td>1.000000</td>\n",
       "      <td>4.000000</td>\n",
       "      <td>1.000000</td>\n",
       "      <td>4.000000</td>\n",
       "      <td>26.000000</td>\n",
       "      <td>18.00000</td>\n",
       "      <td>2.996000e+04</td>\n",
       "    </tr>\n",
       "    <tr>\n",
       "      <th>75%</th>\n",
       "      <td>2016.000000</td>\n",
       "      <td>300.000000</td>\n",
       "      <td>6.000000</td>\n",
       "      <td>1.000000</td>\n",
       "      <td>2.000000</td>\n",
       "      <td>4.000000</td>\n",
       "      <td>1.000000</td>\n",
       "      <td>6.000000</td>\n",
       "      <td>30.000000</td>\n",
       "      <td>22.00000</td>\n",
       "      <td>4.220000e+04</td>\n",
       "    </tr>\n",
       "    <tr>\n",
       "      <th>max</th>\n",
       "      <td>2017.000000</td>\n",
       "      <td>1001.000000</td>\n",
       "      <td>16.000000</td>\n",
       "      <td>3.000000</td>\n",
       "      <td>3.000000</td>\n",
       "      <td>4.000000</td>\n",
       "      <td>2.000000</td>\n",
       "      <td>15.000000</td>\n",
       "      <td>354.000000</td>\n",
       "      <td>137.00000</td>\n",
       "      <td>2.065902e+06</td>\n",
       "    </tr>\n",
       "  </tbody>\n",
       "</table>\n",
       "</div>"
      ],
      "text/plain": [
       "               Year     Engine HP  Engine Cylinders  Transmission Type  \\\n",
       "count  11815.000000  11815.000000      11815.000000       11815.000000   \n",
       "mean    2010.359966    249.480491          5.649513           0.858146   \n",
       "std        7.594359    109.203463          1.751433           0.664606   \n",
       "min     1990.000000     55.000000          0.000000           0.000000   \n",
       "25%     2007.000000    170.000000          4.000000           1.000000   \n",
       "50%     2015.000000    227.000000          6.000000           1.000000   \n",
       "75%     2016.000000    300.000000          6.000000           1.000000   \n",
       "max     2017.000000   1001.000000         16.000000           3.000000   \n",
       "\n",
       "       Driven_Wheels  Number of Doors  Vehicle Size  Vehicle Style  \\\n",
       "count   11815.000000     11815.000000  11815.000000   11815.000000   \n",
       "mean        1.152433         3.432670      0.834109       4.570631   \n",
       "std         0.965569         0.882853      0.776913       3.467384   \n",
       "min         0.000000         2.000000      0.000000       0.000000   \n",
       "25%         0.000000         2.000000      0.000000       2.000000   \n",
       "50%         1.000000         4.000000      1.000000       4.000000   \n",
       "75%         2.000000         4.000000      1.000000       6.000000   \n",
       "max         3.000000         4.000000      2.000000      15.000000   \n",
       "\n",
       "        highway MPG     city mpg          MSRP  \n",
       "count  11815.000000  11815.00000  1.181500e+04  \n",
       "mean      26.320609     19.32755  4.055437e+04  \n",
       "std        7.442674      6.52701  6.027750e+04  \n",
       "min       12.000000      7.00000  2.000000e+03  \n",
       "25%       22.000000     16.00000  2.099000e+04  \n",
       "50%       26.000000     18.00000  2.996000e+04  \n",
       "75%       30.000000     22.00000  4.220000e+04  \n",
       "max      354.000000    137.00000  2.065902e+06  "
      ]
     },
     "execution_count": 9,
     "metadata": {},
     "output_type": "execute_result"
    }
   ],
   "source": [
    "data.describe()"
   ]
  },
  {
   "cell_type": "markdown",
   "metadata": {},
   "source": [
    "### 6) Checking for duplicate values"
   ]
  },
  {
   "cell_type": "code",
   "execution_count": 10,
   "metadata": {},
   "outputs": [
    {
     "name": "stdout",
     "output_type": "stream",
     "text": [
      "       Year  Engine HP  Engine Cylinders  Transmission Type  Driven_Wheels  \\\n",
      "14     2013      230.0               6.0                  0              0   \n",
      "18     1992      172.0               6.0                  0              1   \n",
      "20     1992      172.0               6.0                  0              1   \n",
      "24     1993      172.0               6.0                  0              1   \n",
      "25     1993      172.0               6.0                  0              1   \n",
      "...     ...        ...               ...                ...            ...   \n",
      "11481  1998       95.0               4.0                  0              3   \n",
      "11603  2017      302.0               4.0                  1              2   \n",
      "11604  2017      240.0               4.0                  1              1   \n",
      "11708  2008      252.0               6.0                  1              2   \n",
      "11717  2008      252.0               6.0                  1              1   \n",
      "\n",
      "       Number of Doors  Vehicle Size  Vehicle Style  highway MPG  city mpg  \\\n",
      "14                 2.0             0              0           28        19   \n",
      "18                 4.0             1              2           24        17   \n",
      "20                 4.0             1              2           24        17   \n",
      "24                 4.0             1              2           24        17   \n",
      "25                 4.0             1              2           24        17   \n",
      "...                ...           ...            ...          ...       ...   \n",
      "11481              2.0             0              7           26        22   \n",
      "11603              4.0             1              6           29        20   \n",
      "11604              4.0             1              6           30        23   \n",
      "11708              4.0             1              6           22        15   \n",
      "11717              4.0             1              6           22        16   \n",
      "\n",
      "        MSRP  \n",
      "14     31500  \n",
      "18      2000  \n",
      "20      2000  \n",
      "24      2000  \n",
      "25      2000  \n",
      "...      ...  \n",
      "11481   2000  \n",
      "11603  46350  \n",
      "11604  40950  \n",
      "11708  29149  \n",
      "11717  27499  \n",
      "\n",
      "[871 rows x 11 columns]\n"
     ]
    }
   ],
   "source": [
    "print(data[data.duplicated()])"
   ]
  },
  {
   "cell_type": "markdown",
   "metadata": {},
   "source": [
    "### 7.) Checking the correlation of attributes with each other"
   ]
  },
  {
   "cell_type": "code",
   "execution_count": 11,
   "metadata": {},
   "outputs": [
    {
     "data": {
      "text/html": [
       "<div>\n",
       "<style scoped>\n",
       "    .dataframe tbody tr th:only-of-type {\n",
       "        vertical-align: middle;\n",
       "    }\n",
       "\n",
       "    .dataframe tbody tr th {\n",
       "        vertical-align: top;\n",
       "    }\n",
       "\n",
       "    .dataframe thead th {\n",
       "        text-align: right;\n",
       "    }\n",
       "</style>\n",
       "<table border=\"1\" class=\"dataframe\">\n",
       "  <thead>\n",
       "    <tr style=\"text-align: right;\">\n",
       "      <th></th>\n",
       "      <th>Year</th>\n",
       "      <th>Engine HP</th>\n",
       "      <th>Engine Cylinders</th>\n",
       "      <th>Transmission Type</th>\n",
       "      <th>Driven_Wheels</th>\n",
       "      <th>Number of Doors</th>\n",
       "      <th>Vehicle Size</th>\n",
       "      <th>Vehicle Style</th>\n",
       "      <th>highway MPG</th>\n",
       "      <th>city mpg</th>\n",
       "      <th>MSRP</th>\n",
       "    </tr>\n",
       "  </thead>\n",
       "  <tbody>\n",
       "    <tr>\n",
       "      <th>Year</th>\n",
       "      <td>1.000000</td>\n",
       "      <td>0.352980</td>\n",
       "      <td>-0.034494</td>\n",
       "      <td>0.316264</td>\n",
       "      <td>0.098368</td>\n",
       "      <td>0.262265</td>\n",
       "      <td>0.086846</td>\n",
       "      <td>-0.063135</td>\n",
       "      <td>0.280210</td>\n",
       "      <td>0.232439</td>\n",
       "      <td>0.227381</td>\n",
       "    </tr>\n",
       "    <tr>\n",
       "      <th>Engine HP</th>\n",
       "      <td>0.352980</td>\n",
       "      <td>1.000000</td>\n",
       "      <td>0.779740</td>\n",
       "      <td>0.239824</td>\n",
       "      <td>-0.010711</td>\n",
       "      <td>-0.102070</td>\n",
       "      <td>0.397373</td>\n",
       "      <td>-0.127470</td>\n",
       "      <td>-0.414183</td>\n",
       "      <td>-0.465903</td>\n",
       "      <td>0.661833</td>\n",
       "    </tr>\n",
       "    <tr>\n",
       "      <th>Engine Cylinders</th>\n",
       "      <td>-0.034494</td>\n",
       "      <td>0.779740</td>\n",
       "      <td>1.000000</td>\n",
       "      <td>0.109557</td>\n",
       "      <td>-0.029820</td>\n",
       "      <td>-0.137584</td>\n",
       "      <td>0.485464</td>\n",
       "      <td>0.087225</td>\n",
       "      <td>-0.620316</td>\n",
       "      <td>-0.637879</td>\n",
       "      <td>0.543971</td>\n",
       "    </tr>\n",
       "    <tr>\n",
       "      <th>Transmission Type</th>\n",
       "      <td>0.316264</td>\n",
       "      <td>0.239824</td>\n",
       "      <td>0.109557</td>\n",
       "      <td>1.000000</td>\n",
       "      <td>0.066674</td>\n",
       "      <td>0.177031</td>\n",
       "      <td>0.140977</td>\n",
       "      <td>-0.053247</td>\n",
       "      <td>0.052832</td>\n",
       "      <td>0.044509</td>\n",
       "      <td>0.241880</td>\n",
       "    </tr>\n",
       "    <tr>\n",
       "      <th>Driven_Wheels</th>\n",
       "      <td>0.098368</td>\n",
       "      <td>-0.010711</td>\n",
       "      <td>-0.029820</td>\n",
       "      <td>0.066674</td>\n",
       "      <td>1.000000</td>\n",
       "      <td>0.235010</td>\n",
       "      <td>0.082344</td>\n",
       "      <td>0.193519</td>\n",
       "      <td>-0.090888</td>\n",
       "      <td>-0.042024</td>\n",
       "      <td>-0.031782</td>\n",
       "    </tr>\n",
       "    <tr>\n",
       "      <th>Number of Doors</th>\n",
       "      <td>0.262265</td>\n",
       "      <td>-0.102070</td>\n",
       "      <td>-0.137584</td>\n",
       "      <td>0.177031</td>\n",
       "      <td>0.235010</td>\n",
       "      <td>1.000000</td>\n",
       "      <td>0.246079</td>\n",
       "      <td>0.154347</td>\n",
       "      <td>0.120925</td>\n",
       "      <td>0.136574</td>\n",
       "      <td>-0.127367</td>\n",
       "    </tr>\n",
       "    <tr>\n",
       "      <th>Vehicle Size</th>\n",
       "      <td>0.086846</td>\n",
       "      <td>0.397373</td>\n",
       "      <td>0.485464</td>\n",
       "      <td>0.140977</td>\n",
       "      <td>0.082344</td>\n",
       "      <td>0.246079</td>\n",
       "      <td>1.000000</td>\n",
       "      <td>0.194891</td>\n",
       "      <td>-0.326246</td>\n",
       "      <td>-0.346916</td>\n",
       "      <td>0.117891</td>\n",
       "    </tr>\n",
       "    <tr>\n",
       "      <th>Vehicle Style</th>\n",
       "      <td>-0.063135</td>\n",
       "      <td>-0.127470</td>\n",
       "      <td>0.087225</td>\n",
       "      <td>-0.053247</td>\n",
       "      <td>0.193519</td>\n",
       "      <td>0.154347</td>\n",
       "      <td>0.194891</td>\n",
       "      <td>1.000000</td>\n",
       "      <td>-0.366084</td>\n",
       "      <td>-0.233670</td>\n",
       "      <td>-0.206249</td>\n",
       "    </tr>\n",
       "    <tr>\n",
       "      <th>highway MPG</th>\n",
       "      <td>0.280210</td>\n",
       "      <td>-0.414183</td>\n",
       "      <td>-0.620316</td>\n",
       "      <td>0.052832</td>\n",
       "      <td>-0.090888</td>\n",
       "      <td>0.120925</td>\n",
       "      <td>-0.326246</td>\n",
       "      <td>-0.366084</td>\n",
       "      <td>1.000000</td>\n",
       "      <td>0.847022</td>\n",
       "      <td>-0.198942</td>\n",
       "    </tr>\n",
       "    <tr>\n",
       "      <th>city mpg</th>\n",
       "      <td>0.232439</td>\n",
       "      <td>-0.465903</td>\n",
       "      <td>-0.637879</td>\n",
       "      <td>0.044509</td>\n",
       "      <td>-0.042024</td>\n",
       "      <td>0.136574</td>\n",
       "      <td>-0.346916</td>\n",
       "      <td>-0.233670</td>\n",
       "      <td>0.847022</td>\n",
       "      <td>1.000000</td>\n",
       "      <td>-0.225277</td>\n",
       "    </tr>\n",
       "    <tr>\n",
       "      <th>MSRP</th>\n",
       "      <td>0.227381</td>\n",
       "      <td>0.661833</td>\n",
       "      <td>0.543971</td>\n",
       "      <td>0.241880</td>\n",
       "      <td>-0.031782</td>\n",
       "      <td>-0.127367</td>\n",
       "      <td>0.117891</td>\n",
       "      <td>-0.206249</td>\n",
       "      <td>-0.198942</td>\n",
       "      <td>-0.225277</td>\n",
       "      <td>1.000000</td>\n",
       "    </tr>\n",
       "  </tbody>\n",
       "</table>\n",
       "</div>"
      ],
      "text/plain": [
       "                       Year  Engine HP  Engine Cylinders  Transmission Type  \\\n",
       "Year               1.000000   0.352980         -0.034494           0.316264   \n",
       "Engine HP          0.352980   1.000000          0.779740           0.239824   \n",
       "Engine Cylinders  -0.034494   0.779740          1.000000           0.109557   \n",
       "Transmission Type  0.316264   0.239824          0.109557           1.000000   \n",
       "Driven_Wheels      0.098368  -0.010711         -0.029820           0.066674   \n",
       "Number of Doors    0.262265  -0.102070         -0.137584           0.177031   \n",
       "Vehicle Size       0.086846   0.397373          0.485464           0.140977   \n",
       "Vehicle Style     -0.063135  -0.127470          0.087225          -0.053247   \n",
       "highway MPG        0.280210  -0.414183         -0.620316           0.052832   \n",
       "city mpg           0.232439  -0.465903         -0.637879           0.044509   \n",
       "MSRP               0.227381   0.661833          0.543971           0.241880   \n",
       "\n",
       "                   Driven_Wheels  Number of Doors  Vehicle Size  \\\n",
       "Year                    0.098368         0.262265      0.086846   \n",
       "Engine HP              -0.010711        -0.102070      0.397373   \n",
       "Engine Cylinders       -0.029820        -0.137584      0.485464   \n",
       "Transmission Type       0.066674         0.177031      0.140977   \n",
       "Driven_Wheels           1.000000         0.235010      0.082344   \n",
       "Number of Doors         0.235010         1.000000      0.246079   \n",
       "Vehicle Size            0.082344         0.246079      1.000000   \n",
       "Vehicle Style           0.193519         0.154347      0.194891   \n",
       "highway MPG            -0.090888         0.120925     -0.326246   \n",
       "city mpg               -0.042024         0.136574     -0.346916   \n",
       "MSRP                   -0.031782        -0.127367      0.117891   \n",
       "\n",
       "                   Vehicle Style  highway MPG  city mpg      MSRP  \n",
       "Year                   -0.063135     0.280210  0.232439  0.227381  \n",
       "Engine HP              -0.127470    -0.414183 -0.465903  0.661833  \n",
       "Engine Cylinders        0.087225    -0.620316 -0.637879  0.543971  \n",
       "Transmission Type      -0.053247     0.052832  0.044509  0.241880  \n",
       "Driven_Wheels           0.193519    -0.090888 -0.042024 -0.031782  \n",
       "Number of Doors         0.154347     0.120925  0.136574 -0.127367  \n",
       "Vehicle Size            0.194891    -0.326246 -0.346916  0.117891  \n",
       "Vehicle Style           1.000000    -0.366084 -0.233670 -0.206249  \n",
       "highway MPG            -0.366084     1.000000  0.847022 -0.198942  \n",
       "city mpg               -0.233670     0.847022  1.000000 -0.225277  \n",
       "MSRP                   -0.206249    -0.198942 -0.225277  1.000000  "
      ]
     },
     "execution_count": 11,
     "metadata": {},
     "output_type": "execute_result"
    }
   ],
   "source": [
    "data.corr()"
   ]
  },
  {
   "cell_type": "markdown",
   "metadata": {},
   "source": [
    "# Aplying Machine Learning Techniques"
   ]
  },
  {
   "cell_type": "code",
   "execution_count": 12,
   "metadata": {},
   "outputs": [],
   "source": [
    "import sklearn\n",
    "from sklearn.model_selection import train_test_split\n",
    "from sklearn.linear_model import LogisticRegression\n",
    "from sklearn import metrics\n",
    "from sklearn.metrics import r2_score\n",
    "from sklearn.preprocessing import StandardScaler"
   ]
  },
  {
   "cell_type": "markdown",
   "metadata": {},
   "source": [
    "### Splitting data into train and test set"
   ]
  },
  {
   "cell_type": "code",
   "execution_count": 13,
   "metadata": {},
   "outputs": [],
   "source": [
    "x = data.iloc[:, :-1].values\n",
    "y = data.iloc[:,-1].values"
   ]
  },
  {
   "cell_type": "code",
   "execution_count": 14,
   "metadata": {},
   "outputs": [],
   "source": [
    "x_train, x_test, y_train, y_test = train_test_split(x,y,test_size= 0.2,random_state=0)"
   ]
  },
  {
   "cell_type": "markdown",
   "metadata": {},
   "source": [
    "### Feature scaling"
   ]
  },
  {
   "cell_type": "code",
   "execution_count": 15,
   "metadata": {},
   "outputs": [],
   "source": [
    "sc = StandardScaler()\n",
    "x_train = sc.fit_transform(x_train)\n",
    "x_test = sc.transform(x_test)"
   ]
  },
  {
   "cell_type": "markdown",
   "metadata": {},
   "source": [
    "### Logistic Regression"
   ]
  },
  {
   "cell_type": "code",
   "execution_count": 16,
   "metadata": {},
   "outputs": [],
   "source": [
    "# lr = LogisticRegression()\n",
    "# lr.fit(x_train, y_train)"
   ]
  },
  {
   "cell_type": "markdown",
   "metadata": {},
   "source": [
    "### Decision tree"
   ]
  },
  {
   "cell_type": "code",
   "execution_count": 17,
   "metadata": {},
   "outputs": [],
   "source": [
    "from sklearn.tree import DecisionTreeClassifier"
   ]
  },
  {
   "cell_type": "code",
   "execution_count": 18,
   "metadata": {},
   "outputs": [],
   "source": [
    "x = data.iloc[:, :-1].values\n",
    "y = data.iloc[:,-1].values"
   ]
  },
  {
   "cell_type": "code",
   "execution_count": 19,
   "metadata": {},
   "outputs": [],
   "source": [
    "x_train, x_test, y_train, y_test = train_test_split(x,y,test_size= 0.2,random_state=0)"
   ]
  },
  {
   "cell_type": "code",
   "execution_count": 20,
   "metadata": {},
   "outputs": [],
   "source": [
    "sc = StandardScaler()\n",
    "x_train = sc.fit_transform(x_train)\n",
    "x_test = sc.transform(x_test)"
   ]
  },
  {
   "cell_type": "code",
   "execution_count": 21,
   "metadata": {},
   "outputs": [],
   "source": [
    "dt = DecisionTreeClassifier()\n",
    "dt = dt.fit(x_train, y_train)"
   ]
  },
  {
   "cell_type": "code",
   "execution_count": 22,
   "metadata": {},
   "outputs": [],
   "source": [
    "y_pred = dt.predict(x_test)"
   ]
  },
  {
   "cell_type": "code",
   "execution_count": 23,
   "metadata": {},
   "outputs": [
    {
     "data": {
      "text/plain": [
       "0.12780363944138806"
      ]
     },
     "execution_count": 23,
     "metadata": {},
     "output_type": "execute_result"
    }
   ],
   "source": [
    "metrics.accuracy_score(y_test, y_pred)"
   ]
  },
  {
   "cell_type": "markdown",
   "metadata": {},
   "source": [
    "### Linear regression"
   ]
  },
  {
   "cell_type": "code",
   "execution_count": 24,
   "metadata": {},
   "outputs": [
    {
     "data": {
      "text/plain": [
       "LinearRegression()"
      ]
     },
     "execution_count": 24,
     "metadata": {},
     "output_type": "execute_result"
    }
   ],
   "source": [
    "from sklearn.linear_model import LinearRegression\n",
    "x = data.iloc[:, :-1].values\n",
    "y = data.iloc[:,-1].values\n",
    "x_train, x_test, y_train, y_test = train_test_split(x,y,test_size= 0.2,random_state=0)\n",
    "sc = StandardScaler()\n",
    "x_train = sc.fit_transform(x_train)\n",
    "x_test = sc.transform(x_test)\n",
    "regressor = LinearRegression()\n",
    "regressor.fit(x_train, y_train)"
   ]
  },
  {
   "cell_type": "code",
   "execution_count": 25,
   "metadata": {},
   "outputs": [],
   "source": [
    "y_pred = regressor.predict(x_test)"
   ]
  },
  {
   "cell_type": "markdown",
   "metadata": {},
   "source": [
    "#### checking accuacy of Linear regression"
   ]
  },
  {
   "cell_type": "code",
   "execution_count": 26,
   "metadata": {},
   "outputs": [],
   "source": [
    "from sklearn.metrics import mean_squared_error, r2_score\n",
    "r2score = r2_score(y_test, y_pred)"
   ]
  },
  {
   "cell_type": "code",
   "execution_count": 27,
   "metadata": {},
   "outputs": [
    {
     "name": "stdout",
     "output_type": "stream",
     "text": [
      "0.45048225753653504\n"
     ]
    }
   ],
   "source": [
    "print(r2score)"
   ]
  },
  {
   "cell_type": "markdown",
   "metadata": {},
   "source": [
    "## Polynomial regression"
   ]
  },
  {
   "cell_type": "code",
   "execution_count": 28,
   "metadata": {},
   "outputs": [],
   "source": [
    "# from sklearn.preprocessing import PolynomialFeatures\n",
    "# from sklearn.model_selection import train_test_split\n",
    "# x = data.iloc[:, :-1].values\n",
    "# y = data.iloc[:,-1].values\n",
    "# x_train, x_test, y_train, y_test = train_test_split(x,y,test_size= 0.2,random_state=0)\n",
    "# polynomial_features = PolynomialFeatures(degree = 3)"
   ]
  },
  {
   "cell_type": "code",
   "execution_count": 29,
   "metadata": {},
   "outputs": [],
   "source": [
    "# x_poly = polynomial_features.fit_transform(x_train)"
   ]
  },
  {
   "cell_type": "code",
   "execution_count": 30,
   "metadata": {},
   "outputs": [],
   "source": [
    "# regressor1 = LinearRegression()\n",
    "# regressor1.fit(x_poly,y_train)"
   ]
  },
  {
   "cell_type": "code",
   "execution_count": 31,
   "metadata": {},
   "outputs": [],
   "source": [
    "# y_pred = dt.predict(x_test)\n",
    "# from sklearn.metrics import mean_squared_error, r2_score\n",
    "# r2score = r2_score(y_test, y_pred)\n",
    "# print(r2score)"
   ]
  },
  {
   "cell_type": "markdown",
   "metadata": {},
   "source": [
    "## kNN"
   ]
  },
  {
   "cell_type": "code",
   "execution_count": 32,
   "metadata": {},
   "outputs": [],
   "source": [
    "from sklearn.preprocessing import StandardScaler\n",
    "from sklearn.model_selection import train_test_split\n",
    "x = data.iloc[:, :-1].values\n",
    "y = data.iloc[:,-1].values\n",
    "x_train, x_test, y_train, y_test = train_test_split(x,y,test_size= 0.2,random_state=0)\n",
    "sc = StandardScaler()\n",
    "x_train = sc.fit_transform(x_train)\n",
    "x_test = sc.transform(x_test)"
   ]
  },
  {
   "cell_type": "code",
   "execution_count": 33,
   "metadata": {},
   "outputs": [],
   "source": [
    "from sklearn.neighbors import KNeighborsClassifier\n",
    "classifier = KNeighborsClassifier(n_neighbors = 5, metric = 'minkowski', p=2)"
   ]
  },
  {
   "cell_type": "code",
   "execution_count": 34,
   "metadata": {},
   "outputs": [
    {
     "data": {
      "text/plain": [
       "KNeighborsClassifier()"
      ]
     },
     "execution_count": 34,
     "metadata": {},
     "output_type": "execute_result"
    }
   ],
   "source": [
    "classifier.fit(x_train, y_train)\n",
    "KNeighborsClassifier()"
   ]
  },
  {
   "cell_type": "code",
   "execution_count": 35,
   "metadata": {},
   "outputs": [],
   "source": [
    "y_pred = classifier.predict(sc.transform(x_test))"
   ]
  },
  {
   "cell_type": "markdown",
   "metadata": {},
   "source": [
    "### accuracy"
   ]
  },
  {
   "cell_type": "code",
   "execution_count": 36,
   "metadata": {},
   "outputs": [],
   "source": [
    "from sklearn.metrics import accuracy_score"
   ]
  },
  {
   "cell_type": "code",
   "execution_count": 37,
   "metadata": {},
   "outputs": [
    {
     "data": {
      "text/plain": [
       "0.09352517985611511"
      ]
     },
     "execution_count": 37,
     "metadata": {},
     "output_type": "execute_result"
    }
   ],
   "source": [
    "accuracy_score(y_test, y_pred)"
   ]
  },
  {
   "cell_type": "markdown",
   "metadata": {},
   "source": [
    "## SVM"
   ]
  },
  {
   "cell_type": "code",
   "execution_count": 38,
   "metadata": {},
   "outputs": [],
   "source": [
    "# from sklearn.svm import SVC"
   ]
  },
  {
   "cell_type": "code",
   "execution_count": 39,
   "metadata": {},
   "outputs": [],
   "source": [
    "# from sklearn.preprocessing import StandardScaler\n",
    "# from sklearn.model_selection import train_test_split\n",
    "# x = data.iloc[:, :-1].values\n",
    "# y = data.iloc[:,-1].values\n",
    "# x_train, x_test, y_train, y_test = train_test_split(x,y,test_size= 0.2,random_state=0)\n",
    "# sc = StandardScaler()\n",
    "# x_train = sc.fit_transform(x_train)\n",
    "# x_test = sc.transform(x_test)\n",
    "# classifier = SVC(kernel = 'linear', random_state = 0)\n",
    "# classifier.fit(x_train, y_train)"
   ]
  },
  {
   "cell_type": "code",
   "execution_count": 40,
   "metadata": {},
   "outputs": [],
   "source": [
    "# y_pred = classifier.predict(x_test)"
   ]
  },
  {
   "cell_type": "markdown",
   "metadata": {},
   "source": [
    "## RANDOM FOREST"
   ]
  },
  {
   "cell_type": "code",
   "execution_count": 41,
   "metadata": {},
   "outputs": [
    {
     "data": {
      "text/plain": [
       "RandomForestClassifier(criterion='entropy', n_estimators=10, random_state=0)"
      ]
     },
     "execution_count": 41,
     "metadata": {},
     "output_type": "execute_result"
    }
   ],
   "source": [
    "from sklearn.ensemble import RandomForestClassifier\n",
    "from sklearn.preprocessing import StandardScaler\n",
    "from sklearn.model_selection import train_test_split\n",
    "x = data.iloc[:, :-1].values\n",
    "y = data.iloc[:,-1].values\n",
    "x_train, x_test, y_train, y_test = train_test_split(x,y,test_size= 0.2,random_state=0)\n",
    "sc = StandardScaler()\n",
    "x_train = sc.fit_transform(x_train)\n",
    "x_test = sc.transform(x_test)\n",
    "classifier = RandomForestClassifier(n_estimators = 10 , criterion = 'entropy', random_state = 0)\n",
    "classifier.fit(x_train, y_train)"
   ]
  },
  {
   "cell_type": "code",
   "execution_count": 42,
   "metadata": {},
   "outputs": [
    {
     "data": {
      "text/plain": [
       "0.09352517985611511"
      ]
     },
     "execution_count": 42,
     "metadata": {},
     "output_type": "execute_result"
    }
   ],
   "source": [
    "metrics.accuracy_score(y_test, y_pred)"
   ]
  },
  {
   "cell_type": "code",
   "execution_count": null,
   "metadata": {},
   "outputs": [],
   "source": []
  }
 ],
 "metadata": {
  "kernelspec": {
   "display_name": "Python 3",
   "language": "python",
   "name": "python3"
  },
  "language_info": {
   "codemirror_mode": {
    "name": "ipython",
    "version": 3
   },
   "file_extension": ".py",
   "mimetype": "text/x-python",
   "name": "python",
   "nbconvert_exporter": "python",
   "pygments_lexer": "ipython3",
   "version": "3.6.5"
  }
 },
 "nbformat": 4,
 "nbformat_minor": 2
}
